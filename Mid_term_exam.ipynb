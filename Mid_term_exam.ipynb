{
  "nbformat": 4,
  "nbformat_minor": 0,
  "metadata": {
    "colab": {
      "provenance": []
    },
    "kernelspec": {
      "name": "python3",
      "display_name": "Python 3"
    },
    "language_info": {
      "name": "python"
    }
  },
  "cells": [
    {
      "cell_type": "markdown",
      "source": [
        "Mid Term Exam\n",
        "1. Make a code to display your name and ID. \n",
        "2. Import pandas as pd and find its version. \n",
        "3. Write four datatypes.\n",
        "4. change the tuple A= (1, 2, 3) to list A.\n",
        "5. Import numpy random and make a list of 10 random number (hint :np.random.random(X).\n",
        "6. Import 'college.csv' file\n",
        "\n",
        "    a) Display top 15 rows of college data (hint: X.head(zzzzz).\n",
        "\n",
        "    b) Make histogram of 'Top10perc' data (hint:plt.hist(XX).\n",
        "7. Make a Y variable {$Y= X^2+2$ } where X is data obtained from Q5. \n",
        "8. Plot 5 and 7 (hint: plt.plot(X,Y).\n",
        "9. Make a function to add two variable. \n",
        "10. Use for loop and display the numbers form 1 to 15. "
      ],
      "metadata": {
        "id": "C4CQUaBnqmTr"
      }
    },
    {
      "cell_type": "markdown",
      "source": [],
      "metadata": {
        "id": "r7GxS_LuqlcN"
      }
    }
  ]
}